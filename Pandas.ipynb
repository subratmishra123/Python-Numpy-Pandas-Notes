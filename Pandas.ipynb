{
  "metadata": {
    "language_info": {
      "codemirror_mode": {
        "name": "python",
        "version": 3
      },
      "file_extension": ".py",
      "mimetype": "text/x-python",
      "name": "python",
      "nbconvert_exporter": "python",
      "pygments_lexer": "ipython3",
      "version": "3.8"
    },
    "kernelspec": {
      "name": "python",
      "display_name": "Python (Pyodide)",
      "language": "python"
    }
  },
  "nbformat_minor": 4,
  "nbformat": 4,
  "cells": [
    {
      "cell_type": "code",
      "source": "#intro to pandas\n#2 type of data structure\n#series, dataframe\n\n#[1]series: uniform or same of data-[1, 2.5, 3, 4, 5.012] in data frame\nit is one dimensional \n#[2]dataframe: tabular spread sheet contains diff type of data\nit is two dimensional",
      "metadata": {
        "trusted": true
      },
      "execution_count": 1,
      "outputs": []
    },
    {
      "cell_type": "code",
      "source": "import numpy as np\nimport pandas as pd",
      "metadata": {
        "trusted": true
      },
      "execution_count": 120,
      "outputs": []
    },
    {
      "cell_type": "code",
      "source": "dict1={\"no\":[1,2,3,4,5],\"name\":[\"sita\",\"gita\",\"Kamla\",\"ramu\",\"sonu\"],\"marks\":[10,20,30,40,50],\"null\":[300,0,400,100,0]}\ndict1",
      "metadata": {
        "trusted": true
      },
      "execution_count": 121,
      "outputs": [
        {
          "execution_count": 121,
          "output_type": "execute_result",
          "data": {
            "text/plain": "{'no': [1, 2, 3, 4, 5],\n 'name': ['sita', 'gita', 'Kamla', 'ramu', 'sonu'],\n 'marks': [10, 20, 30, 40, 50],\n 'null': [300, 0, 400, 100, 0]}"
          },
          "metadata": {}
        }
      ]
    },
    {
      "cell_type": "markdown",
      "source": "## df=pd.DataFrame(dict1)\ndf",
      "metadata": {}
    },
    {
      "cell_type": "code",
      "source": "#create a casv file in c folder\ndf.to_csv(\"friend.csv\")",
      "metadata": {},
      "execution_count": null,
      "outputs": []
    },
    {
      "cell_type": "code",
      "source": "#only 2 coloumn you need\ndf.head(2)",
      "metadata": {
        "trusted": true
      },
      "execution_count": 39,
      "outputs": [
        {
          "execution_count": 39,
          "output_type": "execute_result",
          "data": {
            "text/plain": "   no  name  marks  null\n0   1  sita     10   300\n1   2  gita     20     0",
            "text/html": "<div>\n<style scoped>\n    .dataframe tbody tr th:only-of-type {\n        vertical-align: middle;\n    }\n\n    .dataframe tbody tr th {\n        vertical-align: top;\n    }\n\n    .dataframe thead th {\n        text-align: right;\n    }\n</style>\n<table border=\"1\" class=\"dataframe\">\n  <thead>\n    <tr style=\"text-align: right;\">\n      <th></th>\n      <th>no</th>\n      <th>name</th>\n      <th>marks</th>\n      <th>null</th>\n    </tr>\n  </thead>\n  <tbody>\n    <tr>\n      <th>0</th>\n      <td>1</td>\n      <td>sita</td>\n      <td>10</td>\n      <td>300</td>\n    </tr>\n    <tr>\n      <th>1</th>\n      <td>2</td>\n      <td>gita</td>\n      <td>20</td>\n      <td>0</td>\n    </tr>\n  </tbody>\n</table>\n</div>"
          },
          "metadata": {}
        }
      ]
    },
    {
      "cell_type": "code",
      "source": "#check is there any null value is there or not ?\n#not null value in columns showing false, if null value show true\ndf.isnull()\ndf.isnull()[\"no\"]",
      "metadata": {
        "trusted": true
      },
      "execution_count": 175,
      "outputs": [
        {
          "execution_count": 175,
          "output_type": "execute_result",
          "data": {
            "text/plain": "0    True\n1    True\n2    True\n3    True\n4    True\nName: no, dtype: bool"
          },
          "metadata": {}
        }
      ]
    },
    {
      "cell_type": "markdown",
      "source": "## insert None value in a whole coloumn\ndf[\"no\"] = None\ndf",
      "metadata": {}
    },
    {
      "cell_type": "code",
      "source": "#which coloumn you need give a referance colomn name \n#change the value also work\ndf['name']\ndf['name'][1] = \"shamu\"\ndf",
      "metadata": {
        "trusted": true
      },
      "execution_count": 177,
      "outputs": [
        {
          "name": "stderr",
          "text": "<ipython-input-177-7e796b571dfe>:4: SettingWithCopyWarning: \nA value is trying to be set on a copy of a slice from a DataFrame\n\nSee the caveats in the documentation: https://pandas.pydata.org/pandas-docs/stable/user_guide/indexing.html#returning-a-view-versus-a-copy\n  df['name'][1] = \"shamu\"\n",
          "output_type": "stream"
        },
        {
          "execution_count": 177,
          "output_type": "execute_result",
          "data": {
            "text/plain": "     no   name  marks  null     1\n0  None   sita     10   300  None\n1  None  shamu    500     0  None\n2  None  Kamla     30   400  None\n3  None   ramu     40   100  None\n4  None   sonu     50     0  None",
            "text/html": "<div>\n<style scoped>\n    .dataframe tbody tr th:only-of-type {\n        vertical-align: middle;\n    }\n\n    .dataframe tbody tr th {\n        vertical-align: top;\n    }\n\n    .dataframe thead th {\n        text-align: right;\n    }\n</style>\n<table border=\"1\" class=\"dataframe\">\n  <thead>\n    <tr style=\"text-align: right;\">\n      <th></th>\n      <th>no</th>\n      <th>name</th>\n      <th>marks</th>\n      <th>null</th>\n      <th>1</th>\n    </tr>\n  </thead>\n  <tbody>\n    <tr>\n      <th>0</th>\n      <td>None</td>\n      <td>sita</td>\n      <td>10</td>\n      <td>300</td>\n      <td>None</td>\n    </tr>\n    <tr>\n      <th>1</th>\n      <td>None</td>\n      <td>shamu</td>\n      <td>500</td>\n      <td>0</td>\n      <td>None</td>\n    </tr>\n    <tr>\n      <th>2</th>\n      <td>None</td>\n      <td>Kamla</td>\n      <td>30</td>\n      <td>400</td>\n      <td>None</td>\n    </tr>\n    <tr>\n      <th>3</th>\n      <td>None</td>\n      <td>ramu</td>\n      <td>40</td>\n      <td>100</td>\n      <td>None</td>\n    </tr>\n    <tr>\n      <th>4</th>\n      <td>None</td>\n      <td>sonu</td>\n      <td>50</td>\n      <td>0</td>\n      <td>None</td>\n    </tr>\n  </tbody>\n</table>\n</div>"
          },
          "metadata": {}
        }
      ]
    },
    {
      "cell_type": "code",
      "source": "#statistical analysis of \"df\"\ndf.describe()",
      "metadata": {
        "trusted": true
      },
      "execution_count": 131,
      "outputs": [
        {
          "execution_count": 131,
          "output_type": "execute_result",
          "data": {
            "text/plain": "             no       marks        null\ncount  5.000000    5.000000    5.000000\nmean   3.000000  126.000000  160.000000\nstd    1.581139  209.594847  181.659021\nmin    1.000000   10.000000    0.000000\n25%    2.000000   30.000000    0.000000\n50%    3.000000   40.000000  100.000000\n75%    4.000000   50.000000  300.000000\nmax    5.000000  500.000000  400.000000",
            "text/html": "<div>\n<style scoped>\n    .dataframe tbody tr th:only-of-type {\n        vertical-align: middle;\n    }\n\n    .dataframe tbody tr th {\n        vertical-align: top;\n    }\n\n    .dataframe thead th {\n        text-align: right;\n    }\n</style>\n<table border=\"1\" class=\"dataframe\">\n  <thead>\n    <tr style=\"text-align: right;\">\n      <th></th>\n      <th>no</th>\n      <th>marks</th>\n      <th>null</th>\n    </tr>\n  </thead>\n  <tbody>\n    <tr>\n      <th>count</th>\n      <td>5.000000</td>\n      <td>5.000000</td>\n      <td>5.000000</td>\n    </tr>\n    <tr>\n      <th>mean</th>\n      <td>3.000000</td>\n      <td>126.000000</td>\n      <td>160.000000</td>\n    </tr>\n    <tr>\n      <th>std</th>\n      <td>1.581139</td>\n      <td>209.594847</td>\n      <td>181.659021</td>\n    </tr>\n    <tr>\n      <th>min</th>\n      <td>1.000000</td>\n      <td>10.000000</td>\n      <td>0.000000</td>\n    </tr>\n    <tr>\n      <th>25%</th>\n      <td>2.000000</td>\n      <td>30.000000</td>\n      <td>0.000000</td>\n    </tr>\n    <tr>\n      <th>50%</th>\n      <td>3.000000</td>\n      <td>40.000000</td>\n      <td>100.000000</td>\n    </tr>\n    <tr>\n      <th>75%</th>\n      <td>4.000000</td>\n      <td>50.000000</td>\n      <td>300.000000</td>\n    </tr>\n    <tr>\n      <th>max</th>\n      <td>5.000000</td>\n      <td>500.000000</td>\n      <td>400.000000</td>\n    </tr>\n  </tbody>\n</table>\n</div>"
          },
          "metadata": {}
        }
      ]
    },
    {
      "cell_type": "markdown",
      "source": "*******************************************************************************************************\npractice",
      "metadata": {}
    },
    {
      "cell_type": "code",
      "source": "#craete a data frame random integer 334 rows with 5 columns ................................................\nnewdf=pd.DataFrame(np.random.rand(334,5))\nnewdf.head(3)",
      "metadata": {
        "trusted": true
      },
      "execution_count": 135,
      "outputs": [
        {
          "execution_count": 135,
          "output_type": "execute_result",
          "data": {
            "text/plain": "          0         1         2        3         4\n0  0.159995  0.172297  0.533081  0.10610  0.210327\n1  0.814612  0.638734  0.444037  0.14647  0.267112\n2  0.863329  0.727056  0.992266  0.55859  0.578404",
            "text/html": "<div>\n<style scoped>\n    .dataframe tbody tr th:only-of-type {\n        vertical-align: middle;\n    }\n\n    .dataframe tbody tr th {\n        vertical-align: top;\n    }\n\n    .dataframe thead th {\n        text-align: right;\n    }\n</style>\n<table border=\"1\" class=\"dataframe\">\n  <thead>\n    <tr style=\"text-align: right;\">\n      <th></th>\n      <th>0</th>\n      <th>1</th>\n      <th>2</th>\n      <th>3</th>\n      <th>4</th>\n    </tr>\n  </thead>\n  <tbody>\n    <tr>\n      <th>0</th>\n      <td>0.159995</td>\n      <td>0.172297</td>\n      <td>0.533081</td>\n      <td>0.10610</td>\n      <td>0.210327</td>\n    </tr>\n    <tr>\n      <th>1</th>\n      <td>0.814612</td>\n      <td>0.638734</td>\n      <td>0.444037</td>\n      <td>0.14647</td>\n      <td>0.267112</td>\n    </tr>\n    <tr>\n      <th>2</th>\n      <td>0.863329</td>\n      <td>0.727056</td>\n      <td>0.992266</td>\n      <td>0.55859</td>\n      <td>0.578404</td>\n    </tr>\n  </tbody>\n</table>\n</div>"
          },
          "metadata": {}
        }
      ]
    },
    {
      "cell_type": "code",
      "source": "#define how many index and coloumn in data frame\nnewdf.index\nnewdf.columns",
      "metadata": {
        "trusted": true
      },
      "execution_count": 80,
      "outputs": [
        {
          "execution_count": 80,
          "output_type": "execute_result",
          "data": {
            "text/plain": "RangeIndex(start=0, stop=5, step=1)"
          },
          "metadata": {}
        }
      ]
    },
    {
      "cell_type": "code",
      "source": "#drop() funcion ..............................................\n#axis (0 = row & axis = 1column)\n#delete 0 columns in the table ?\nnewdf.drop(0,axis=1)\nnewdf.head(3)",
      "metadata": {
        "trusted": true
      },
      "execution_count": 133,
      "outputs": [
        {
          "execution_count": 133,
          "output_type": "execute_result",
          "data": {
            "text/plain": "            0         1         2         3         4\n0  120.000000  0.670000  0.681886  0.061229  0.019314\n1    0.056339  0.573863  0.936926  0.710331  0.872983\n2    0.137081  0.019170  0.127668  0.760347  0.966551",
            "text/html": "<div>\n<style scoped>\n    .dataframe tbody tr th:only-of-type {\n        vertical-align: middle;\n    }\n\n    .dataframe tbody tr th {\n        vertical-align: top;\n    }\n\n    .dataframe thead th {\n        text-align: right;\n    }\n</style>\n<table border=\"1\" class=\"dataframe\">\n  <thead>\n    <tr style=\"text-align: right;\">\n      <th></th>\n      <th>0</th>\n      <th>1</th>\n      <th>2</th>\n      <th>3</th>\n      <th>4</th>\n    </tr>\n  </thead>\n  <tbody>\n    <tr>\n      <th>0</th>\n      <td>120.000000</td>\n      <td>0.670000</td>\n      <td>0.681886</td>\n      <td>0.061229</td>\n      <td>0.019314</td>\n    </tr>\n    <tr>\n      <th>1</th>\n      <td>0.056339</td>\n      <td>0.573863</td>\n      <td>0.936926</td>\n      <td>0.710331</td>\n      <td>0.872983</td>\n    </tr>\n    <tr>\n      <th>2</th>\n      <td>0.137081</td>\n      <td>0.019170</td>\n      <td>0.127668</td>\n      <td>0.760347</td>\n      <td>0.966551</td>\n    </tr>\n  </tbody>\n</table>\n</div>"
          },
          "metadata": {}
        }
      ]
    },
    {
      "cell_type": "code",
      "source": "#rename columns name of the table ?....................................\nnewdf1=newdf.rename(columns={1:\"first\", 2:\"second\",3:\"third\",4:\"four\"})\nnewdf1.head()",
      "metadata": {
        "trusted": true
      },
      "execution_count": 138,
      "outputs": [
        {
          "execution_count": 138,
          "output_type": "execute_result",
          "data": {
            "text/plain": "          0     first    second     third      four\n0  0.159995  0.172297  0.533081  0.106100  0.210327\n1  0.814612  0.638734  0.444037  0.146470  0.267112\n2  0.863329  0.727056  0.992266  0.558590  0.578404\n3  0.448526  0.080796  0.144069  0.198494  0.961629\n4  0.655647  0.926866  0.065945  0.779409  0.732332",
            "text/html": "<div>\n<style scoped>\n    .dataframe tbody tr th:only-of-type {\n        vertical-align: middle;\n    }\n\n    .dataframe tbody tr th {\n        vertical-align: top;\n    }\n\n    .dataframe thead th {\n        text-align: right;\n    }\n</style>\n<table border=\"1\" class=\"dataframe\">\n  <thead>\n    <tr style=\"text-align: right;\">\n      <th></th>\n      <th>0</th>\n      <th>first</th>\n      <th>second</th>\n      <th>third</th>\n      <th>four</th>\n    </tr>\n  </thead>\n  <tbody>\n    <tr>\n      <th>0</th>\n      <td>0.159995</td>\n      <td>0.172297</td>\n      <td>0.533081</td>\n      <td>0.106100</td>\n      <td>0.210327</td>\n    </tr>\n    <tr>\n      <th>1</th>\n      <td>0.814612</td>\n      <td>0.638734</td>\n      <td>0.444037</td>\n      <td>0.146470</td>\n      <td>0.267112</td>\n    </tr>\n    <tr>\n      <th>2</th>\n      <td>0.863329</td>\n      <td>0.727056</td>\n      <td>0.992266</td>\n      <td>0.558590</td>\n      <td>0.578404</td>\n    </tr>\n    <tr>\n      <th>3</th>\n      <td>0.448526</td>\n      <td>0.080796</td>\n      <td>0.144069</td>\n      <td>0.198494</td>\n      <td>0.961629</td>\n    </tr>\n    <tr>\n      <th>4</th>\n      <td>0.655647</td>\n      <td>0.926866</td>\n      <td>0.065945</td>\n      <td>0.779409</td>\n      <td>0.732332</td>\n    </tr>\n  </tbody>\n</table>\n</div>"
          },
          "metadata": {}
        }
      ]
    },
    {
      "cell_type": "code",
      "source": "#loc() function call row and column by rows \n#iloc() call row and column by indexing [0,1,2,3,4] .................................................",
      "metadata": {},
      "execution_count": null,
      "outputs": []
    },
    {
      "cell_type": "code",
      "source": "#if change only one coloumn value is a data table?\nnewdf.loc[:, [0]]=3\nnewdf.head()",
      "metadata": {
        "trusted": true
      },
      "execution_count": 189,
      "outputs": [
        {
          "execution_count": 189,
          "output_type": "execute_result",
          "data": {
            "text/plain": "     0         1         2         3         4\n0  3.0  0.670000  0.533081  0.106100  0.210327\n1  3.0  0.638734  0.444037  0.146470  0.267112\n2  3.0  0.727056  0.992266  0.558590  0.578404\n3  3.0  0.080796  0.144069  0.198494  0.961629\n4  3.0  0.926866  0.065945  0.779409  0.732332",
            "text/html": "<div>\n<style scoped>\n    .dataframe tbody tr th:only-of-type {\n        vertical-align: middle;\n    }\n\n    .dataframe tbody tr th {\n        vertical-align: top;\n    }\n\n    .dataframe thead th {\n        text-align: right;\n    }\n</style>\n<table border=\"1\" class=\"dataframe\">\n  <thead>\n    <tr style=\"text-align: right;\">\n      <th></th>\n      <th>0</th>\n      <th>1</th>\n      <th>2</th>\n      <th>3</th>\n      <th>4</th>\n    </tr>\n  </thead>\n  <tbody>\n    <tr>\n      <th>0</th>\n      <td>3.0</td>\n      <td>0.670000</td>\n      <td>0.533081</td>\n      <td>0.106100</td>\n      <td>0.210327</td>\n    </tr>\n    <tr>\n      <th>1</th>\n      <td>3.0</td>\n      <td>0.638734</td>\n      <td>0.444037</td>\n      <td>0.146470</td>\n      <td>0.267112</td>\n    </tr>\n    <tr>\n      <th>2</th>\n      <td>3.0</td>\n      <td>0.727056</td>\n      <td>0.992266</td>\n      <td>0.558590</td>\n      <td>0.578404</td>\n    </tr>\n    <tr>\n      <th>3</th>\n      <td>3.0</td>\n      <td>0.080796</td>\n      <td>0.144069</td>\n      <td>0.198494</td>\n      <td>0.961629</td>\n    </tr>\n    <tr>\n      <th>4</th>\n      <td>3.0</td>\n      <td>0.926866</td>\n      <td>0.065945</td>\n      <td>0.779409</td>\n      <td>0.732332</td>\n    </tr>\n  </tbody>\n</table>\n</div>"
          },
          "metadata": {}
        }
      ]
    },
    {
      "cell_type": "code",
      "source": "#loc() function \n#change value in any row \nnewdf.loc[0,1]=0.67\nnewdf.head(3)",
      "metadata": {
        "trusted": true
      },
      "execution_count": 160,
      "outputs": [
        {
          "execution_count": 160,
          "output_type": "execute_result",
          "data": {
            "text/plain": "          0         1         2        3         4\n0  0.159995  0.670000  0.533081  0.10610  0.210327\n1  0.814612  0.638734  0.444037  0.14647  0.267112\n2  0.863329  0.727056  0.992266  0.55859  0.578404",
            "text/html": "<div>\n<style scoped>\n    .dataframe tbody tr th:only-of-type {\n        vertical-align: middle;\n    }\n\n    .dataframe tbody tr th {\n        vertical-align: top;\n    }\n\n    .dataframe thead th {\n        text-align: right;\n    }\n</style>\n<table border=\"1\" class=\"dataframe\">\n  <thead>\n    <tr style=\"text-align: right;\">\n      <th></th>\n      <th>0</th>\n      <th>1</th>\n      <th>2</th>\n      <th>3</th>\n      <th>4</th>\n    </tr>\n  </thead>\n  <tbody>\n    <tr>\n      <th>0</th>\n      <td>0.159995</td>\n      <td>0.670000</td>\n      <td>0.533081</td>\n      <td>0.10610</td>\n      <td>0.210327</td>\n    </tr>\n    <tr>\n      <th>1</th>\n      <td>0.814612</td>\n      <td>0.638734</td>\n      <td>0.444037</td>\n      <td>0.14647</td>\n      <td>0.267112</td>\n    </tr>\n    <tr>\n      <th>2</th>\n      <td>0.863329</td>\n      <td>0.727056</td>\n      <td>0.992266</td>\n      <td>0.55859</td>\n      <td>0.578404</td>\n    </tr>\n  </tbody>\n</table>\n</div>"
          },
          "metadata": {}
        }
      ]
    },
    {
      "cell_type": "code",
      "source": "#loc()\n#you need speacfic row & columns \n#convert it into 2 dimension matrix\nnewdf1=newdf1.loc[[1,2],[\"third\",\"four\"]]\nnewdf1.head()",
      "metadata": {
        "trusted": true
      },
      "execution_count": 143,
      "outputs": [
        {
          "execution_count": 143,
          "output_type": "execute_result",
          "data": {
            "text/plain": "     third      four\n1  0.14647  0.267112\n2  0.55859  0.578404",
            "text/html": "<div>\n<style scoped>\n    .dataframe tbody tr th:only-of-type {\n        vertical-align: middle;\n    }\n\n    .dataframe tbody tr th {\n        vertical-align: top;\n    }\n\n    .dataframe thead th {\n        text-align: right;\n    }\n</style>\n<table border=\"1\" class=\"dataframe\">\n  <thead>\n    <tr style=\"text-align: right;\">\n      <th></th>\n      <th>third</th>\n      <th>four</th>\n    </tr>\n  </thead>\n  <tbody>\n    <tr>\n      <th>1</th>\n      <td>0.14647</td>\n      <td>0.267112</td>\n    </tr>\n    <tr>\n      <th>2</th>\n      <td>0.55859</td>\n      <td>0.578404</td>\n    </tr>\n  </tbody>\n</table>\n</div>"
          },
          "metadata": {}
        }
      ]
    },
    {
      "cell_type": "code",
      "source": "newdf",
      "metadata": {
        "trusted": true
      },
      "execution_count": 148,
      "outputs": [
        {
          "execution_count": 148,
          "output_type": "execute_result",
          "data": {
            "text/plain": "            0         1         2         3         4\n0    0.159995  0.172297  0.533081  0.106100  0.210327\n1    0.814612  0.638734  0.444037  0.146470  0.267112\n2    0.863329  0.727056  0.992266  0.558590  0.578404\n3    0.448526  0.080796  0.144069  0.198494  0.961629\n4    0.655647  0.926866  0.065945  0.779409  0.732332\n..        ...       ...       ...       ...       ...\n329  0.910128  0.200905  0.230161  0.706347  0.799764\n330  0.410661  0.676944  0.611404  0.109404  0.281986\n331  0.140047  0.377114  0.677785  0.879195  0.160007\n332  0.731178  0.598918  0.125602  0.755638  0.667609\n333  0.270240  0.280272  0.223638  0.443903  0.453067\n\n[334 rows x 5 columns]",
            "text/html": "<div>\n<style scoped>\n    .dataframe tbody tr th:only-of-type {\n        vertical-align: middle;\n    }\n\n    .dataframe tbody tr th {\n        vertical-align: top;\n    }\n\n    .dataframe thead th {\n        text-align: right;\n    }\n</style>\n<table border=\"1\" class=\"dataframe\">\n  <thead>\n    <tr style=\"text-align: right;\">\n      <th></th>\n      <th>0</th>\n      <th>1</th>\n      <th>2</th>\n      <th>3</th>\n      <th>4</th>\n    </tr>\n  </thead>\n  <tbody>\n    <tr>\n      <th>0</th>\n      <td>0.159995</td>\n      <td>0.172297</td>\n      <td>0.533081</td>\n      <td>0.106100</td>\n      <td>0.210327</td>\n    </tr>\n    <tr>\n      <th>1</th>\n      <td>0.814612</td>\n      <td>0.638734</td>\n      <td>0.444037</td>\n      <td>0.146470</td>\n      <td>0.267112</td>\n    </tr>\n    <tr>\n      <th>2</th>\n      <td>0.863329</td>\n      <td>0.727056</td>\n      <td>0.992266</td>\n      <td>0.558590</td>\n      <td>0.578404</td>\n    </tr>\n    <tr>\n      <th>3</th>\n      <td>0.448526</td>\n      <td>0.080796</td>\n      <td>0.144069</td>\n      <td>0.198494</td>\n      <td>0.961629</td>\n    </tr>\n    <tr>\n      <th>4</th>\n      <td>0.655647</td>\n      <td>0.926866</td>\n      <td>0.065945</td>\n      <td>0.779409</td>\n      <td>0.732332</td>\n    </tr>\n    <tr>\n      <th>...</th>\n      <td>...</td>\n      <td>...</td>\n      <td>...</td>\n      <td>...</td>\n      <td>...</td>\n    </tr>\n    <tr>\n      <th>329</th>\n      <td>0.910128</td>\n      <td>0.200905</td>\n      <td>0.230161</td>\n      <td>0.706347</td>\n      <td>0.799764</td>\n    </tr>\n    <tr>\n      <th>330</th>\n      <td>0.410661</td>\n      <td>0.676944</td>\n      <td>0.611404</td>\n      <td>0.109404</td>\n      <td>0.281986</td>\n    </tr>\n    <tr>\n      <th>331</th>\n      <td>0.140047</td>\n      <td>0.377114</td>\n      <td>0.677785</td>\n      <td>0.879195</td>\n      <td>0.160007</td>\n    </tr>\n    <tr>\n      <th>332</th>\n      <td>0.731178</td>\n      <td>0.598918</td>\n      <td>0.125602</td>\n      <td>0.755638</td>\n      <td>0.667609</td>\n    </tr>\n    <tr>\n      <th>333</th>\n      <td>0.270240</td>\n      <td>0.280272</td>\n      <td>0.223638</td>\n      <td>0.443903</td>\n      <td>0.453067</td>\n    </tr>\n  </tbody>\n</table>\n<p>334 rows × 5 columns</p>\n</div>"
          },
          "metadata": {}
        }
      ]
    },
    {
      "cell_type": "code",
      "source": "#loc()\n#if you need 1st two rows ?\nnewdf2=newdf.loc[[1,2],:]\nnewdf2",
      "metadata": {
        "trusted": true
      },
      "execution_count": 147,
      "outputs": [
        {
          "execution_count": 147,
          "output_type": "execute_result",
          "data": {
            "text/plain": "          0         1         2        3         4\n1  0.814612  0.638734  0.444037  0.14647  0.267112\n2  0.863329  0.727056  0.992266  0.55859  0.578404",
            "text/html": "<div>\n<style scoped>\n    .dataframe tbody tr th:only-of-type {\n        vertical-align: middle;\n    }\n\n    .dataframe tbody tr th {\n        vertical-align: top;\n    }\n\n    .dataframe thead th {\n        text-align: right;\n    }\n</style>\n<table border=\"1\" class=\"dataframe\">\n  <thead>\n    <tr style=\"text-align: right;\">\n      <th></th>\n      <th>0</th>\n      <th>1</th>\n      <th>2</th>\n      <th>3</th>\n      <th>4</th>\n    </tr>\n  </thead>\n  <tbody>\n    <tr>\n      <th>1</th>\n      <td>0.814612</td>\n      <td>0.638734</td>\n      <td>0.444037</td>\n      <td>0.14647</td>\n      <td>0.267112</td>\n    </tr>\n    <tr>\n      <th>2</th>\n      <td>0.863329</td>\n      <td>0.727056</td>\n      <td>0.992266</td>\n      <td>0.55859</td>\n      <td>0.578404</td>\n    </tr>\n  </tbody>\n</table>\n</div>"
          },
          "metadata": {}
        }
      ]
    },
    {
      "cell_type": "code",
      "source": "newdf",
      "metadata": {
        "trusted": true
      },
      "execution_count": 151,
      "outputs": [
        {
          "execution_count": 151,
          "output_type": "execute_result",
          "data": {
            "text/plain": "            0         1         2         3         4\n0    0.159995  0.172297  0.533081  0.106100  0.210327\n1    0.814612  0.638734  0.444037  0.146470  0.267112\n2    0.863329  0.727056  0.992266  0.558590  0.578404\n3    0.448526  0.080796  0.144069  0.198494  0.961629\n4    0.655647  0.926866  0.065945  0.779409  0.732332\n..        ...       ...       ...       ...       ...\n329  0.910128  0.200905  0.230161  0.706347  0.799764\n330  0.410661  0.676944  0.611404  0.109404  0.281986\n331  0.140047  0.377114  0.677785  0.879195  0.160007\n332  0.731178  0.598918  0.125602  0.755638  0.667609\n333  0.270240  0.280272  0.223638  0.443903  0.453067\n\n[334 rows x 5 columns]",
            "text/html": "<div>\n<style scoped>\n    .dataframe tbody tr th:only-of-type {\n        vertical-align: middle;\n    }\n\n    .dataframe tbody tr th {\n        vertical-align: top;\n    }\n\n    .dataframe thead th {\n        text-align: right;\n    }\n</style>\n<table border=\"1\" class=\"dataframe\">\n  <thead>\n    <tr style=\"text-align: right;\">\n      <th></th>\n      <th>0</th>\n      <th>1</th>\n      <th>2</th>\n      <th>3</th>\n      <th>4</th>\n    </tr>\n  </thead>\n  <tbody>\n    <tr>\n      <th>0</th>\n      <td>0.159995</td>\n      <td>0.172297</td>\n      <td>0.533081</td>\n      <td>0.106100</td>\n      <td>0.210327</td>\n    </tr>\n    <tr>\n      <th>1</th>\n      <td>0.814612</td>\n      <td>0.638734</td>\n      <td>0.444037</td>\n      <td>0.146470</td>\n      <td>0.267112</td>\n    </tr>\n    <tr>\n      <th>2</th>\n      <td>0.863329</td>\n      <td>0.727056</td>\n      <td>0.992266</td>\n      <td>0.558590</td>\n      <td>0.578404</td>\n    </tr>\n    <tr>\n      <th>3</th>\n      <td>0.448526</td>\n      <td>0.080796</td>\n      <td>0.144069</td>\n      <td>0.198494</td>\n      <td>0.961629</td>\n    </tr>\n    <tr>\n      <th>4</th>\n      <td>0.655647</td>\n      <td>0.926866</td>\n      <td>0.065945</td>\n      <td>0.779409</td>\n      <td>0.732332</td>\n    </tr>\n    <tr>\n      <th>...</th>\n      <td>...</td>\n      <td>...</td>\n      <td>...</td>\n      <td>...</td>\n      <td>...</td>\n    </tr>\n    <tr>\n      <th>329</th>\n      <td>0.910128</td>\n      <td>0.200905</td>\n      <td>0.230161</td>\n      <td>0.706347</td>\n      <td>0.799764</td>\n    </tr>\n    <tr>\n      <th>330</th>\n      <td>0.410661</td>\n      <td>0.676944</td>\n      <td>0.611404</td>\n      <td>0.109404</td>\n      <td>0.281986</td>\n    </tr>\n    <tr>\n      <th>331</th>\n      <td>0.140047</td>\n      <td>0.377114</td>\n      <td>0.677785</td>\n      <td>0.879195</td>\n      <td>0.160007</td>\n    </tr>\n    <tr>\n      <th>332</th>\n      <td>0.731178</td>\n      <td>0.598918</td>\n      <td>0.125602</td>\n      <td>0.755638</td>\n      <td>0.667609</td>\n    </tr>\n    <tr>\n      <th>333</th>\n      <td>0.270240</td>\n      <td>0.280272</td>\n      <td>0.223638</td>\n      <td>0.443903</td>\n      <td>0.453067</td>\n    </tr>\n  </tbody>\n</table>\n<p>334 rows × 5 columns</p>\n</div>"
          },
          "metadata": {}
        }
      ]
    },
    {
      "cell_type": "code",
      "source": "#loc()\ncondition apply and or condition\n#\"&,and\" \"|,or\" operator in pandas\nc=newdf.loc[(newdf[0]<0.3) & (newdf[1]>0.1)]\nc",
      "metadata": {
        "trusted": true
      },
      "execution_count": 159,
      "outputs": [
        {
          "execution_count": 159,
          "output_type": "execute_result",
          "data": {
            "text/plain": "            0         1         2         3         4\n0    0.159995  0.172297  0.533081  0.106100  0.210327\n1    0.814612  0.638734  0.444037  0.146470  0.267112\n2    0.863329  0.727056  0.992266  0.558590  0.578404\n4    0.655647  0.926866  0.065945  0.779409  0.732332\n5    0.844824  0.850684  0.758924  0.946737  0.165312\n..        ...       ...       ...       ...       ...\n329  0.910128  0.200905  0.230161  0.706347  0.799764\n330  0.410661  0.676944  0.611404  0.109404  0.281986\n331  0.140047  0.377114  0.677785  0.879195  0.160007\n332  0.731178  0.598918  0.125602  0.755638  0.667609\n333  0.270240  0.280272  0.223638  0.443903  0.453067\n\n[307 rows x 5 columns]",
            "text/html": "<div>\n<style scoped>\n    .dataframe tbody tr th:only-of-type {\n        vertical-align: middle;\n    }\n\n    .dataframe tbody tr th {\n        vertical-align: top;\n    }\n\n    .dataframe thead th {\n        text-align: right;\n    }\n</style>\n<table border=\"1\" class=\"dataframe\">\n  <thead>\n    <tr style=\"text-align: right;\">\n      <th></th>\n      <th>0</th>\n      <th>1</th>\n      <th>2</th>\n      <th>3</th>\n      <th>4</th>\n    </tr>\n  </thead>\n  <tbody>\n    <tr>\n      <th>0</th>\n      <td>0.159995</td>\n      <td>0.172297</td>\n      <td>0.533081</td>\n      <td>0.106100</td>\n      <td>0.210327</td>\n    </tr>\n    <tr>\n      <th>1</th>\n      <td>0.814612</td>\n      <td>0.638734</td>\n      <td>0.444037</td>\n      <td>0.146470</td>\n      <td>0.267112</td>\n    </tr>\n    <tr>\n      <th>2</th>\n      <td>0.863329</td>\n      <td>0.727056</td>\n      <td>0.992266</td>\n      <td>0.558590</td>\n      <td>0.578404</td>\n    </tr>\n    <tr>\n      <th>4</th>\n      <td>0.655647</td>\n      <td>0.926866</td>\n      <td>0.065945</td>\n      <td>0.779409</td>\n      <td>0.732332</td>\n    </tr>\n    <tr>\n      <th>5</th>\n      <td>0.844824</td>\n      <td>0.850684</td>\n      <td>0.758924</td>\n      <td>0.946737</td>\n      <td>0.165312</td>\n    </tr>\n    <tr>\n      <th>...</th>\n      <td>...</td>\n      <td>...</td>\n      <td>...</td>\n      <td>...</td>\n      <td>...</td>\n    </tr>\n    <tr>\n      <th>329</th>\n      <td>0.910128</td>\n      <td>0.200905</td>\n      <td>0.230161</td>\n      <td>0.706347</td>\n      <td>0.799764</td>\n    </tr>\n    <tr>\n      <th>330</th>\n      <td>0.410661</td>\n      <td>0.676944</td>\n      <td>0.611404</td>\n      <td>0.109404</td>\n      <td>0.281986</td>\n    </tr>\n    <tr>\n      <th>331</th>\n      <td>0.140047</td>\n      <td>0.377114</td>\n      <td>0.677785</td>\n      <td>0.879195</td>\n      <td>0.160007</td>\n    </tr>\n    <tr>\n      <th>332</th>\n      <td>0.731178</td>\n      <td>0.598918</td>\n      <td>0.125602</td>\n      <td>0.755638</td>\n      <td>0.667609</td>\n    </tr>\n    <tr>\n      <th>333</th>\n      <td>0.270240</td>\n      <td>0.280272</td>\n      <td>0.223638</td>\n      <td>0.443903</td>\n      <td>0.453067</td>\n    </tr>\n  </tbody>\n</table>\n<p>307 rows × 5 columns</p>\n</div>"
          },
          "metadata": {}
        }
      ]
    },
    {
      "cell_type": "code",
      "source": "#iloc()\n#iloc() call row and column by indexing [0,1,2,3,4] ...........................................",
      "metadata": {},
      "execution_count": null,
      "outputs": []
    },
    {
      "cell_type": "code",
      "source": "#axes only the value 1st row 4th coloumn value? \nnewdf.iloc[0,4]",
      "metadata": {
        "trusted": true
      },
      "execution_count": 161,
      "outputs": [
        {
          "execution_count": 161,
          "output_type": "execute_result",
          "data": {
            "text/plain": "0.2103266955675982"
          },
          "metadata": {}
        }
      ]
    },
    {
      "cell_type": "code",
      "source": "#only selected coloumn full 1st row and 4 th row [3&4 columns only]\nnewdf.iloc[[0,4],[3,4]]",
      "metadata": {
        "trusted": true
      },
      "execution_count": 163,
      "outputs": [
        {
          "execution_count": 163,
          "output_type": "execute_result",
          "data": {
            "text/plain": "          3         4\n0  0.106100  0.210327\n4  0.779409  0.732332",
            "text/html": "<div>\n<style scoped>\n    .dataframe tbody tr th:only-of-type {\n        vertical-align: middle;\n    }\n\n    .dataframe tbody tr th {\n        vertical-align: top;\n    }\n\n    .dataframe thead th {\n        text-align: right;\n    }\n</style>\n<table border=\"1\" class=\"dataframe\">\n  <thead>\n    <tr style=\"text-align: right;\">\n      <th></th>\n      <th>3</th>\n      <th>4</th>\n    </tr>\n  </thead>\n  <tbody>\n    <tr>\n      <th>0</th>\n      <td>0.106100</td>\n      <td>0.210327</td>\n    </tr>\n    <tr>\n      <th>4</th>\n      <td>0.779409</td>\n      <td>0.732332</td>\n    </tr>\n  </tbody>\n</table>\n</div>"
          },
          "metadata": {}
        }
      ]
    },
    {
      "cell_type": "code",
      "source": "dropna & fillna..................",
      "metadata": {},
      "execution_count": null,
      "outputs": []
    }
  ]
}
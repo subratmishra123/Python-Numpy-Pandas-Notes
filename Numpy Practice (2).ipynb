{
  "metadata": {
    "language_info": {
      "codemirror_mode": {
        "name": "python",
        "version": 3
      },
      "file_extension": ".py",
      "mimetype": "text/x-python",
      "name": "python",
      "nbconvert_exporter": "python",
      "pygments_lexer": "ipython3",
      "version": "3.8"
    },
    "kernelspec": {
      "name": "python",
      "display_name": "Python (Pyodide)",
      "language": "python"
    }
  },
  "nbformat_minor": 4,
  "nbformat": 4,
  "cells": [
    {
      "cell_type": "markdown",
      "source": "##Numpy",
      "metadata": {}
    },
    {
      "cell_type": "code",
      "source": "#numpy save the storage managemet\n#fast then python",
      "metadata": {},
      "execution_count": null,
      "outputs": []
    },
    {
      "cell_type": "code",
      "source": "import numpy as np",
      "metadata": {
        "trusted": true
      },
      "execution_count": 2,
      "outputs": []
    },
    {
      "cell_type": "markdown",
      "source": "#create a numpy array?",
      "metadata": {}
    },
    {
      "cell_type": "code",
      "source": "a=np.array([1,2,3,4])\na",
      "metadata": {
        "trusted": true
      },
      "execution_count": 10,
      "outputs": [
        {
          "execution_count": 10,
          "output_type": "execute_result",
          "data": {
            "text/plain": "array([1, 2, 3, 4])"
          },
          "metadata": {}
        }
      ]
    },
    {
      "cell_type": "markdown",
      "source": "#create an array 10 random intager?",
      "metadata": {}
    },
    {
      "cell_type": "code",
      "source": "#this is a function like randomint() & we use [] axis a list \narray=np.random.randint(1,100,10)\narray",
      "metadata": {
        "trusted": true
      },
      "execution_count": 35,
      "outputs": [
        {
          "execution_count": 35,
          "output_type": "execute_result",
          "data": {
            "text/plain": "array([13, 29, 18, 19, 54, 74, 72, 13, 14, 84])"
          },
          "metadata": {}
        }
      ]
    },
    {
      "cell_type": "markdown",
      "source": "#create an array of elements from 10-20 ?",
      "metadata": {}
    },
    {
      "cell_type": "code",
      "source": "#arange() function, but it returns an array rather than a list. \narr=np.arange(10,21)\narr",
      "metadata": {
        "trusted": true
      },
      "execution_count": 14,
      "outputs": [
        {
          "execution_count": 14,
          "output_type": "execute_result",
          "data": {
            "text/plain": "array([10, 11, 12, 13, 14, 15, 16, 17, 18, 19, 20])"
          },
          "metadata": {}
        }
      ]
    },
    {
      "cell_type": "markdown",
      "source": "#create an array which contains value 5, 10 times?",
      "metadata": {}
    },
    {
      "cell_type": "code",
      "source": "a=np.ones(10)*5\na",
      "metadata": {
        "trusted": true
      },
      "execution_count": 52,
      "outputs": [
        {
          "execution_count": 52,
          "output_type": "execute_result",
          "data": {
            "text/plain": "array([5., 5., 5., 5., 5., 5., 5., 5., 5., 5.])"
          },
          "metadata": {}
        }
      ]
    },
    {
      "cell_type": "markdown",
      "source": "#create an array convert all even number in to zero?",
      "metadata": {}
    },
    {
      "cell_type": "code",
      "source": "#zero of [what will need in the changes in zero]=0 should be zero\n#== will check equal to zero or not = indicates finally zero\nzero=np.arange(1,11)\nzero[zero%2==0]=0\nzero",
      "metadata": {
        "trusted": true
      },
      "execution_count": 54,
      "outputs": [
        {
          "execution_count": 54,
          "output_type": "execute_result",
          "data": {
            "text/plain": "array([1, 0, 3, 0, 5, 0, 7, 0, 9, 0])"
          },
          "metadata": {}
        }
      ]
    },
    {
      "cell_type": "code",
      "source": "#create 2d array but condition is all the element bet (0,1)?",
      "metadata": {},
      "execution_count": null,
      "outputs": []
    },
    {
      "cell_type": "code",
      "source": "******************************************************\n#create a one dimensional arryay convert it into 3*3 matrix?",
      "metadata": {},
      "execution_count": null,
      "outputs": []
    },
    {
      "cell_type": "code",
      "source": "matrix=np.arange(1,17)\nmatrix2=matrix.reshape((4,4))\nprint(matrix2)",
      "metadata": {
        "trusted": true
      },
      "execution_count": 75,
      "outputs": [
        {
          "name": "stdout",
          "text": "[[ 1  2  3  4]\n [ 5  6  7  8]\n [ 9 10 11 12]\n [13 14 15 16]]\n",
          "output_type": "stream"
        }
      ]
    },
    {
      "cell_type": "code",
      "source": "#slicing rules\n#variable in bracket[row,coloumn]\n#matrix2 is the variable taken from previous question ",
      "metadata": {},
      "execution_count": null,
      "outputs": []
    },
    {
      "cell_type": "code",
      "source": "#perform slicing\narr1=np.arange(1,17).reshape(4,4)\narr2=matrix2[1:,1:4]\narr2",
      "metadata": {
        "trusted": true
      },
      "execution_count": 77,
      "outputs": [
        {
          "execution_count": 77,
          "output_type": "execute_result",
          "data": {
            "text/plain": "array([[ 6,  7,  8],\n       [10, 11, 12],\n       [14, 15, 16]])"
          },
          "metadata": {}
        }
      ]
    },
    {
      "cell_type": "markdown",
      "source": "Day2 Pratice",
      "metadata": {}
    },
    {
      "cell_type": "code",
      "source": "#type of int 8 bites -24\nmyarray=np.array([1,2,38888,4],np.int8)\nmyarray",
      "metadata": {
        "trusted": true
      },
      "execution_count": 10,
      "outputs": [
        {
          "name": "stderr",
          "text": "<ipython-input-10-e73a086b908a>:1: DeprecationWarning: NumPy will stop allowing conversion of out-of-bound Python integers to integer arrays.  The conversion of 38888 to int8 will fail in the future.\nFor the old behavior, usually:\n    np.array(value).astype(dtype)`\nwill give the desired result (the cast overflows).\n  myarray=np.array([1,2,38888,4],np.int8)\n",
          "output_type": "stream"
        },
        {
          "execution_count": 10,
          "output_type": "execute_result",
          "data": {
            "text/plain": "array([  1,   2, -24,   4], dtype=int8)"
          },
          "metadata": {}
        }
      ]
    },
    {
      "cell_type": "code",
      "source": "#in double dimension it will show 1st row 2nd coloumn\nmyarray=np.array([[1,2,8,4]],np.int8)\nmyarray[0,2]",
      "metadata": {
        "trusted": true
      },
      "execution_count": 12,
      "outputs": [
        {
          "execution_count": 12,
          "output_type": "execute_result",
          "data": {
            "text/plain": "8"
          },
          "metadata": {}
        }
      ]
    },
    {
      "cell_type": "code",
      "source": "myarray[0,3]=66\nmyarray",
      "metadata": {
        "trusted": true
      },
      "execution_count": 13,
      "outputs": [
        {
          "execution_count": 13,
          "output_type": "execute_result",
          "data": {
            "text/plain": "array([[ 1,  2,  8, 66]], dtype=int8)"
          },
          "metadata": {}
        }
      ]
    },
    {
      "cell_type": "code",
      "source": "",
      "metadata": {
        "trusted": true
      },
      "execution_count": null,
      "outputs": []
    },
    {
      "cell_type": "code",
      "source": "",
      "metadata": {
        "trusted": true
      },
      "execution_count": null,
      "outputs": []
    },
    {
      "cell_type": "code",
      "source": "",
      "metadata": {},
      "execution_count": null,
      "outputs": []
    },
    {
      "cell_type": "code",
      "source": "",
      "metadata": {},
      "execution_count": null,
      "outputs": []
    },
    {
      "cell_type": "code",
      "source": "",
      "metadata": {},
      "execution_count": null,
      "outputs": []
    },
    {
      "cell_type": "code",
      "source": "",
      "metadata": {},
      "execution_count": null,
      "outputs": []
    }
  ]
}